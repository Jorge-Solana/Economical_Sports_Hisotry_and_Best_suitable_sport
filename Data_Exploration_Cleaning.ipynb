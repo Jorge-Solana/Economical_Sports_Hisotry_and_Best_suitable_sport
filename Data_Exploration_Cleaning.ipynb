{
 "cells": [
  {
   "cell_type": "code",
   "execution_count": 1,
   "id": "30546579",
   "metadata": {},
   "outputs": [],
   "source": [
    "import pandas as pd\n",
    "import seaborn as sns\n",
    "import matplotlib.pyplot as plt"
   ]
  },
  {
   "cell_type": "code",
   "execution_count": 37,
   "id": "c2db02e7",
   "metadata": {},
   "outputs": [],
   "source": [
    "sports = pd.read_excel('./Toughest Sport by Skill.xlsx')"
   ]
  },
  {
   "cell_type": "code",
   "execution_count": 3,
   "id": "bc705dce",
   "metadata": {},
   "outputs": [],
   "source": [
    "money = pd.read_csv('./Forbes Richest Atheletes (Forbes Richest Athletes 1990-2020).csv')"
   ]
  },
  {
   "cell_type": "code",
   "execution_count": 38,
   "id": "4fec2c9c",
   "metadata": {},
   "outputs": [
    {
     "data": {
      "text/html": [
       "<div>\n",
       "<style scoped>\n",
       "    .dataframe tbody tr th:only-of-type {\n",
       "        vertical-align: middle;\n",
       "    }\n",
       "\n",
       "    .dataframe tbody tr th {\n",
       "        vertical-align: top;\n",
       "    }\n",
       "\n",
       "    .dataframe thead th {\n",
       "        text-align: right;\n",
       "    }\n",
       "</style>\n",
       "<table border=\"1\" class=\"dataframe\">\n",
       "  <thead>\n",
       "    <tr style=\"text-align: right;\">\n",
       "      <th></th>\n",
       "      <th>Sport</th>\n",
       "      <th>Endurance</th>\n",
       "      <th>Strength</th>\n",
       "      <th>Power</th>\n",
       "      <th>Speed</th>\n",
       "      <th>Agility</th>\n",
       "      <th>Flexibility</th>\n",
       "      <th>Nerve</th>\n",
       "      <th>Durability</th>\n",
       "      <th>Hand-Eye Coordination</th>\n",
       "      <th>Analytical Aptitude</th>\n",
       "      <th>Total</th>\n",
       "      <th>Rank</th>\n",
       "    </tr>\n",
       "  </thead>\n",
       "  <tbody>\n",
       "    <tr>\n",
       "      <th>0</th>\n",
       "      <td>Boxing</td>\n",
       "      <td>8.63</td>\n",
       "      <td>8.13</td>\n",
       "      <td>8.63</td>\n",
       "      <td>6.38</td>\n",
       "      <td>6.25</td>\n",
       "      <td>4.38</td>\n",
       "      <td>8.88</td>\n",
       "      <td>8.50</td>\n",
       "      <td>7.00</td>\n",
       "      <td>5.63</td>\n",
       "      <td>72.375</td>\n",
       "      <td>1</td>\n",
       "    </tr>\n",
       "    <tr>\n",
       "      <th>1</th>\n",
       "      <td>Ice Hockey</td>\n",
       "      <td>7.25</td>\n",
       "      <td>7.13</td>\n",
       "      <td>7.88</td>\n",
       "      <td>7.75</td>\n",
       "      <td>7.63</td>\n",
       "      <td>4.88</td>\n",
       "      <td>6.00</td>\n",
       "      <td>8.25</td>\n",
       "      <td>7.50</td>\n",
       "      <td>7.50</td>\n",
       "      <td>71.750</td>\n",
       "      <td>2</td>\n",
       "    </tr>\n",
       "    <tr>\n",
       "      <th>2</th>\n",
       "      <td>Football</td>\n",
       "      <td>5.38</td>\n",
       "      <td>8.63</td>\n",
       "      <td>8.13</td>\n",
       "      <td>7.13</td>\n",
       "      <td>6.38</td>\n",
       "      <td>4.38</td>\n",
       "      <td>7.25</td>\n",
       "      <td>8.50</td>\n",
       "      <td>5.50</td>\n",
       "      <td>7.13</td>\n",
       "      <td>68.375</td>\n",
       "      <td>3</td>\n",
       "    </tr>\n",
       "    <tr>\n",
       "      <th>3</th>\n",
       "      <td>Basketball</td>\n",
       "      <td>7.38</td>\n",
       "      <td>6.25</td>\n",
       "      <td>6.50</td>\n",
       "      <td>7.25</td>\n",
       "      <td>8.13</td>\n",
       "      <td>5.63</td>\n",
       "      <td>4.13</td>\n",
       "      <td>7.75</td>\n",
       "      <td>7.50</td>\n",
       "      <td>7.38</td>\n",
       "      <td>67.875</td>\n",
       "      <td>4</td>\n",
       "    </tr>\n",
       "    <tr>\n",
       "      <th>4</th>\n",
       "      <td>Wrestling</td>\n",
       "      <td>6.63</td>\n",
       "      <td>8.38</td>\n",
       "      <td>7.13</td>\n",
       "      <td>5.13</td>\n",
       "      <td>6.38</td>\n",
       "      <td>7.50</td>\n",
       "      <td>5.00</td>\n",
       "      <td>6.75</td>\n",
       "      <td>4.25</td>\n",
       "      <td>6.38</td>\n",
       "      <td>63.500</td>\n",
       "      <td>5</td>\n",
       "    </tr>\n",
       "  </tbody>\n",
       "</table>\n",
       "</div>"
      ],
      "text/plain": [
       "        Sport  Endurance  Strength  Power  Speed  Agility  Flexibility  Nerve  \\\n",
       "0      Boxing       8.63      8.13   8.63   6.38     6.25         4.38   8.88   \n",
       "1  Ice Hockey       7.25      7.13   7.88   7.75     7.63         4.88   6.00   \n",
       "2    Football       5.38      8.63   8.13   7.13     6.38         4.38   7.25   \n",
       "3  Basketball       7.38      6.25   6.50   7.25     8.13         5.63   4.13   \n",
       "4   Wrestling       6.63      8.38   7.13   5.13     6.38         7.50   5.00   \n",
       "\n",
       "   Durability  Hand-Eye Coordination  Analytical Aptitude   Total  Rank  \n",
       "0        8.50                   7.00                 5.63  72.375     1  \n",
       "1        8.25                   7.50                 7.50  71.750     2  \n",
       "2        8.50                   5.50                 7.13  68.375     3  \n",
       "3        7.75                   7.50                 7.38  67.875     4  \n",
       "4        6.75                   4.25                 6.38  63.500     5  "
      ]
     },
     "execution_count": 38,
     "metadata": {},
     "output_type": "execute_result"
    }
   ],
   "source": [
    "sports.head()"
   ]
  },
  {
   "cell_type": "code",
   "execution_count": 5,
   "id": "f356b362",
   "metadata": {},
   "outputs": [
    {
     "data": {
      "text/html": [
       "<div>\n",
       "<style scoped>\n",
       "    .dataframe tbody tr th:only-of-type {\n",
       "        vertical-align: middle;\n",
       "    }\n",
       "\n",
       "    .dataframe tbody tr th {\n",
       "        vertical-align: top;\n",
       "    }\n",
       "\n",
       "    .dataframe thead th {\n",
       "        text-align: right;\n",
       "    }\n",
       "</style>\n",
       "<table border=\"1\" class=\"dataframe\">\n",
       "  <thead>\n",
       "    <tr style=\"text-align: right;\">\n",
       "      <th></th>\n",
       "      <th>S.NO</th>\n",
       "      <th>Name</th>\n",
       "      <th>Nationality</th>\n",
       "      <th>Current Rank</th>\n",
       "      <th>Previous Year Rank</th>\n",
       "      <th>Sport</th>\n",
       "      <th>Year</th>\n",
       "      <th>earnings ($ million)</th>\n",
       "    </tr>\n",
       "  </thead>\n",
       "  <tbody>\n",
       "    <tr>\n",
       "      <th>0</th>\n",
       "      <td>1</td>\n",
       "      <td>Mike Tyson</td>\n",
       "      <td>USA</td>\n",
       "      <td>1</td>\n",
       "      <td>NaN</td>\n",
       "      <td>boxing</td>\n",
       "      <td>1990</td>\n",
       "      <td>28.6</td>\n",
       "    </tr>\n",
       "    <tr>\n",
       "      <th>1</th>\n",
       "      <td>2</td>\n",
       "      <td>Buster Douglas</td>\n",
       "      <td>USA</td>\n",
       "      <td>2</td>\n",
       "      <td>NaN</td>\n",
       "      <td>boxing</td>\n",
       "      <td>1990</td>\n",
       "      <td>26.0</td>\n",
       "    </tr>\n",
       "    <tr>\n",
       "      <th>2</th>\n",
       "      <td>3</td>\n",
       "      <td>Sugar Ray Leonard</td>\n",
       "      <td>USA</td>\n",
       "      <td>3</td>\n",
       "      <td>NaN</td>\n",
       "      <td>boxing</td>\n",
       "      <td>1990</td>\n",
       "      <td>13.0</td>\n",
       "    </tr>\n",
       "    <tr>\n",
       "      <th>3</th>\n",
       "      <td>4</td>\n",
       "      <td>Ayrton Senna</td>\n",
       "      <td>Brazil</td>\n",
       "      <td>4</td>\n",
       "      <td>NaN</td>\n",
       "      <td>auto racing</td>\n",
       "      <td>1990</td>\n",
       "      <td>10.0</td>\n",
       "    </tr>\n",
       "    <tr>\n",
       "      <th>4</th>\n",
       "      <td>5</td>\n",
       "      <td>Alain Prost</td>\n",
       "      <td>France</td>\n",
       "      <td>5</td>\n",
       "      <td>NaN</td>\n",
       "      <td>auto racing</td>\n",
       "      <td>1990</td>\n",
       "      <td>9.0</td>\n",
       "    </tr>\n",
       "  </tbody>\n",
       "</table>\n",
       "</div>"
      ],
      "text/plain": [
       "   S.NO               Name Nationality  Current Rank Previous Year Rank  \\\n",
       "0     1         Mike Tyson         USA             1                NaN   \n",
       "1     2     Buster Douglas         USA             2                NaN   \n",
       "2     3  Sugar Ray Leonard         USA             3                NaN   \n",
       "3     4       Ayrton Senna      Brazil             4                NaN   \n",
       "4     5        Alain Prost      France             5                NaN   \n",
       "\n",
       "         Sport  Year  earnings ($ million)  \n",
       "0       boxing  1990                  28.6  \n",
       "1       boxing  1990                  26.0  \n",
       "2       boxing  1990                  13.0  \n",
       "3  auto racing  1990                  10.0  \n",
       "4  auto racing  1990                   9.0  "
      ]
     },
     "execution_count": 5,
     "metadata": {},
     "output_type": "execute_result"
    }
   ],
   "source": [
    "money.head()"
   ]
  },
  {
   "cell_type": "markdown",
   "id": "0fa87b68",
   "metadata": {},
   "source": [
    "## Data exploration"
   ]
  },
  {
   "cell_type": "markdown",
   "id": "77a6ea35",
   "metadata": {},
   "source": [
    "Let's explore first the sports dataset"
   ]
  },
  {
   "cell_type": "code",
   "execution_count": 7,
   "id": "499b1feb",
   "metadata": {},
   "outputs": [
    {
     "data": {
      "text/plain": [
       "Sport                    0\n",
       "Endurance                0\n",
       "Strength                 0\n",
       "Power                    0\n",
       "Speed                    0\n",
       "Agility                  0\n",
       "Flexibility              0\n",
       "Nerve                    0\n",
       "Durability               0\n",
       "Hand-Eye Coordination    0\n",
       "Analytical Aptitude      0\n",
       "Total                    0\n",
       "Rank                     0\n",
       "dtype: int64"
      ]
     },
     "execution_count": 7,
     "metadata": {},
     "output_type": "execute_result"
    }
   ],
   "source": [
    "sports.isna().sum()"
   ]
  },
  {
   "cell_type": "code",
   "execution_count": 8,
   "id": "fb6580a6",
   "metadata": {},
   "outputs": [],
   "source": [
    "# no nulls aparently"
   ]
  },
  {
   "cell_type": "code",
   "execution_count": 9,
   "id": "95c13534",
   "metadata": {},
   "outputs": [
    {
     "data": {
      "text/plain": [
       "Sport                     object\n",
       "Endurance                float64\n",
       "Strength                 float64\n",
       "Power                    float64\n",
       "Speed                    float64\n",
       "Agility                  float64\n",
       "Flexibility              float64\n",
       "Nerve                    float64\n",
       "Durability               float64\n",
       "Hand-Eye Coordination    float64\n",
       "Analytical Aptitude      float64\n",
       "Total                    float64\n",
       "Rank                       int64\n",
       "dtype: object"
      ]
     },
     "execution_count": 9,
     "metadata": {},
     "output_type": "execute_result"
    }
   ],
   "source": [
    "sports.dtypes"
   ]
  },
  {
   "cell_type": "code",
   "execution_count": 10,
   "id": "d635b42c",
   "metadata": {},
   "outputs": [
    {
     "data": {
      "text/plain": [
       "array(['Boxing', 'Ice Hockey', 'Football', 'Basketball', 'Wrestling',\n",
       "       'Martial Arts', 'Tennis', 'Gymnastics', 'Baseball/Softball',\n",
       "       'Soccer', 'Skiing: Alpine', 'Water Polo', 'Rugby', 'Lacrosse',\n",
       "       'Rodeo: Steer Wrestling', 'Track and Field: Pole Vault',\n",
       "       'Field Hockey', 'Speed Skating', 'Figure Skating',\n",
       "       'Cycling: Distance', 'Volleyball', 'Racquetball/Squash', 'Surfing',\n",
       "       'Fencing', 'Skiing: Freestyle', 'Team Handball',\n",
       "       'Cycling: Sprints', 'Bobsledding/Luge', 'Ski Jumping', 'Badminton',\n",
       "       'Skiing: Nordic', 'Auto Racing', 'Track and Field: High Jump',\n",
       "       'Track and Field: Long, Triple jumps', 'Diving',\n",
       "       'Swimming (all strokes): Distance', 'Skateboarding',\n",
       "       'Track and Field: Sprints', 'Rowing', 'Rodeo: Calf Roping',\n",
       "       'Track and Field: Distance', 'Rodeo: Bull/Bareback/Bronc Riding',\n",
       "       'Track and Field: Middle Distance', 'Weight-Lifting',\n",
       "       'Swimming (all strokes): Sprints', 'Water Skiing', 'Table Tennis',\n",
       "       'Track and Field: Weights', 'Canoe/Kayak', 'Horse Racing', 'Golf',\n",
       "       'Cheerleading', 'Roller Skating', 'Equestrian', 'Archery',\n",
       "       'Curling', 'Bowling', 'Shooting', 'Billiards', 'Fishing'],\n",
       "      dtype=object)"
      ]
     },
     "execution_count": 10,
     "metadata": {},
     "output_type": "execute_result"
    }
   ],
   "source": [
    "sports.Sport.unique()"
   ]
  },
  {
   "cell_type": "markdown",
   "id": "1618e887",
   "metadata": {},
   "source": [
    "Let's explore the money dataset"
   ]
  },
  {
   "cell_type": "code",
   "execution_count": 11,
   "id": "66cae78e",
   "metadata": {},
   "outputs": [
    {
     "data": {
      "text/html": [
       "<div>\n",
       "<style scoped>\n",
       "    .dataframe tbody tr th:only-of-type {\n",
       "        vertical-align: middle;\n",
       "    }\n",
       "\n",
       "    .dataframe tbody tr th {\n",
       "        vertical-align: top;\n",
       "    }\n",
       "\n",
       "    .dataframe thead th {\n",
       "        text-align: right;\n",
       "    }\n",
       "</style>\n",
       "<table border=\"1\" class=\"dataframe\">\n",
       "  <thead>\n",
       "    <tr style=\"text-align: right;\">\n",
       "      <th></th>\n",
       "      <th>S.NO</th>\n",
       "      <th>Name</th>\n",
       "      <th>Nationality</th>\n",
       "      <th>Current Rank</th>\n",
       "      <th>Previous Year Rank</th>\n",
       "      <th>Sport</th>\n",
       "      <th>Year</th>\n",
       "      <th>earnings ($ million)</th>\n",
       "    </tr>\n",
       "  </thead>\n",
       "  <tbody>\n",
       "    <tr>\n",
       "      <th>9</th>\n",
       "      <td>10</td>\n",
       "      <td>Evander Holyfield</td>\n",
       "      <td>USA</td>\n",
       "      <td>8</td>\n",
       "      <td>NaN</td>\n",
       "      <td>boxing</td>\n",
       "      <td>1990</td>\n",
       "      <td>8.1</td>\n",
       "    </tr>\n",
       "  </tbody>\n",
       "</table>\n",
       "</div>"
      ],
      "text/plain": [
       "   S.NO               Name Nationality  Current Rank Previous Year Rank  \\\n",
       "9    10  Evander Holyfield         USA             8                NaN   \n",
       "\n",
       "    Sport  Year  earnings ($ million)  \n",
       "9  boxing  1990                   8.1  "
      ]
     },
     "execution_count": 11,
     "metadata": {},
     "output_type": "execute_result"
    }
   ],
   "source": [
    "money.sample()"
   ]
  },
  {
   "cell_type": "code",
   "execution_count": 12,
   "id": "c8b47a8e",
   "metadata": {},
   "outputs": [
    {
     "data": {
      "text/plain": [
       "S.NO                     0\n",
       "Name                     0\n",
       "Nationality              0\n",
       "Current Rank             0\n",
       "Previous Year Rank      24\n",
       "Sport                    0\n",
       "Year                     0\n",
       "earnings ($ million)     0\n",
       "dtype: int64"
      ]
     },
     "execution_count": 12,
     "metadata": {},
     "output_type": "execute_result"
    }
   ],
   "source": [
    "money.isna().sum()"
   ]
  },
  {
   "cell_type": "code",
   "execution_count": 13,
   "id": "8a11fc85",
   "metadata": {},
   "outputs": [],
   "source": [
    "# do we really care about the previous rank year? NO  we just really want to see the modality, the year and the earnings"
   ]
  },
  {
   "cell_type": "code",
   "execution_count": 14,
   "id": "31ac4f01",
   "metadata": {},
   "outputs": [],
   "source": [
    "money.drop('Previous Year Rank', axis = 1, inplace = True)"
   ]
  },
  {
   "cell_type": "code",
   "execution_count": 15,
   "id": "6cfc424f",
   "metadata": {},
   "outputs": [
    {
     "data": {
      "text/plain": [
       "S.NO                    0\n",
       "Name                    0\n",
       "Nationality             0\n",
       "Current Rank            0\n",
       "Sport                   0\n",
       "Year                    0\n",
       "earnings ($ million)    0\n",
       "dtype: int64"
      ]
     },
     "execution_count": 15,
     "metadata": {},
     "output_type": "execute_result"
    }
   ],
   "source": [
    "money.isna().sum()"
   ]
  },
  {
   "cell_type": "code",
   "execution_count": 16,
   "id": "6d833bda",
   "metadata": {},
   "outputs": [
    {
     "data": {
      "text/plain": [
       "S.NO                      int64\n",
       "Name                     object\n",
       "Nationality              object\n",
       "Current Rank              int64\n",
       "Sport                    object\n",
       "Year                      int64\n",
       "earnings ($ million)    float64\n",
       "dtype: object"
      ]
     },
     "execution_count": 16,
     "metadata": {},
     "output_type": "execute_result"
    }
   ],
   "source": [
    "money.dtypes"
   ]
  },
  {
   "cell_type": "code",
   "execution_count": 17,
   "id": "d280ced1",
   "metadata": {},
   "outputs": [
    {
     "data": {
      "text/plain": [
       "array(['boxing', 'auto racing', 'golf', 'basketball', 'Basketball',\n",
       "       'Boxing', 'Auto Racing', 'Golf', 'Tennis', 'NFL', 'Auto racing',\n",
       "       'NBA', 'Baseball', 'Ice Hockey', 'American Football / Baseball',\n",
       "       'tennis', 'ice hockey', 'F1 Motorsports', 'NASCAR', 'Hockey',\n",
       "       'Auto Racing (Nascar)', 'F1 racing', 'American Football', 'soccer',\n",
       "       'baseball', 'cycling', 'motorcycle gp', 'Soccer', 'MMA'],\n",
       "      dtype=object)"
      ]
     },
     "execution_count": 17,
     "metadata": {},
     "output_type": "execute_result"
    }
   ],
   "source": [
    "money.Sport.unique()"
   ]
  },
  {
   "cell_type": "code",
   "execution_count": 18,
   "id": "af238bad",
   "metadata": {
    "scrolled": false
   },
   "outputs": [
    {
     "data": {
      "text/plain": [
       "Basketball                      54\n",
       "Boxing                          29\n",
       "basketball                      27\n",
       "Golf                            24\n",
       "Soccer                          22\n",
       "golf                            20\n",
       "Tennis                          18\n",
       "boxing                          17\n",
       "American Football               17\n",
       "soccer                          11\n",
       "Auto Racing                     10\n",
       "F1 racing                        8\n",
       "auto racing                      7\n",
       "tennis                           5\n",
       "F1 Motorsports                   5\n",
       "motorcycle gp                    4\n",
       "NFL                              3\n",
       "Baseball                         3\n",
       "NASCAR                           3\n",
       "baseball                         3\n",
       "Ice Hockey                       2\n",
       "Auto Racing (Nascar)             2\n",
       "cycling                          1\n",
       "American Football / Baseball     1\n",
       "Hockey                           1\n",
       "ice hockey                       1\n",
       "NBA                              1\n",
       "Auto racing                      1\n",
       "MMA                              1\n",
       "Name: Sport, dtype: int64"
      ]
     },
     "execution_count": 18,
     "metadata": {},
     "output_type": "execute_result"
    }
   ],
   "source": [
    "money.Sport.value_counts()"
   ]
  },
  {
   "cell_type": "code",
   "execution_count": 19,
   "id": "afab2af3",
   "metadata": {},
   "outputs": [
    {
     "data": {
      "text/plain": [
       "29"
      ]
     },
     "execution_count": 19,
     "metadata": {},
     "output_type": "execute_result"
    }
   ],
   "source": [
    "len(money.Sport.unique())"
   ]
  },
  {
   "cell_type": "code",
   "execution_count": 20,
   "id": "6c47178e",
   "metadata": {},
   "outputs": [],
   "source": [
    "# the length, after grouping should be less (duh)"
   ]
  },
  {
   "cell_type": "markdown",
   "id": "7f4772ae",
   "metadata": {},
   "source": [
    "We have to group the same sports together, for example all the hockeys in one, all the auto racings, basketball with NBA... all that kind of stuff"
   ]
  },
  {
   "cell_type": "markdown",
   "id": "c6eed40b",
   "metadata": {},
   "source": [
    "Lets try to replace them mapping"
   ]
  },
  {
   "cell_type": "code",
   "execution_count": 22,
   "id": "abec830f",
   "metadata": {},
   "outputs": [],
   "source": [
    "sports = {\n",
    "    'Golf': 'Golf',\n",
    "    'golf': 'Golf',\n",
    "    'Basketball': 'Basketball',\n",
    "    'NBA': 'Basketball',\n",
    "    'basketball': 'Basketball',\n",
    "    'Auto Racing': 'Auto Racing',\n",
    "    'auto racing': 'Auto Racing',\n",
    "    'Auto racing': 'Auto Racing',\n",
    "    'Soccer': 'Soccer',\n",
    "    'soccer': 'Soccer',\n",
    "    'F1 racing': 'Auto Racing',\n",
    "    'F1 Motorsports': 'Auto Racing',\n",
    "    'American Football': 'American Football',\n",
    "    'NFL': 'American Football',\n",
    "    'Baseball': 'Baseball',\n",
    "    'baseball': 'Baseball',\n",
    "    'Hockey': 'Hockey',\n",
    "    'Ice Hockey': 'Hockey',\n",
    "    'ice hockey': 'Hockey',\n",
    "    'Boxing': 'Boxing',\n",
    "    'boxing': 'Boxing',\n",
    "    'Tennis': 'Tennis',\n",
    "    'tennis': 'Tennis',\n",
    "    'American Football / Baseball': 'Baseball',\n",
    "    'motorcycle gp': 'Moto GP',\n",
    "    'cycling': 'Cycling',\n",
    "    'NASCAR': 'Nascar',\n",
    "    'Auto Racing (Nascar)': 'Nascar',\n",
    "    'MMA': 'MMA',\n",
    "    \n",
    "}"
   ]
  },
  {
   "cell_type": "code",
   "execution_count": 23,
   "id": "1055ea29",
   "metadata": {},
   "outputs": [],
   "source": [
    "money.Sport = money.Sport.map(sports)"
   ]
  },
  {
   "cell_type": "code",
   "execution_count": 24,
   "id": "1e17b57a",
   "metadata": {},
   "outputs": [
    {
     "data": {
      "text/plain": [
       "Basketball           82\n",
       "Boxing               46\n",
       "Golf                 44\n",
       "Soccer               33\n",
       "Auto Racing          31\n",
       "Tennis               23\n",
       "American Football    20\n",
       "Baseball              7\n",
       "Nascar                5\n",
       "Hockey                4\n",
       "Moto GP               4\n",
       "Cycling               1\n",
       "MMA                   1\n",
       "Name: Sport, dtype: int64"
      ]
     },
     "execution_count": 24,
     "metadata": {},
     "output_type": "execute_result"
    }
   ],
   "source": [
    "money.Sport.value_counts()"
   ]
  },
  {
   "cell_type": "code",
   "execution_count": 25,
   "id": "3aba7d68",
   "metadata": {},
   "outputs": [
    {
     "data": {
      "text/plain": [
       "13"
      ]
     },
     "execution_count": 25,
     "metadata": {},
     "output_type": "execute_result"
    }
   ],
   "source": [
    "len(money.Sport.value_counts())"
   ]
  },
  {
   "cell_type": "code",
   "execution_count": 29,
   "id": "2afcd212",
   "metadata": {},
   "outputs": [
    {
     "data": {
      "text/plain": [
       "S.NO                    0\n",
       "Name                    0\n",
       "Nationality             0\n",
       "Current Rank            0\n",
       "Sport                   0\n",
       "Year                    0\n",
       "earnings ($ million)    0\n",
       "dtype: int64"
      ]
     },
     "execution_count": 29,
     "metadata": {},
     "output_type": "execute_result"
    }
   ],
   "source": [
    "money.isna().sum()"
   ]
  },
  {
   "cell_type": "code",
   "execution_count": 30,
   "id": "63ebd482",
   "metadata": {},
   "outputs": [],
   "source": [
    "money['earnings_million'] = money['earnings ($ million)']"
   ]
  },
  {
   "cell_type": "code",
   "execution_count": 32,
   "id": "83e41dfd",
   "metadata": {},
   "outputs": [],
   "source": [
    "money.drop('earnings ($ million)', axis = 1, inplace = True)"
   ]
  },
  {
   "cell_type": "code",
   "execution_count": 33,
   "id": "82749274",
   "metadata": {},
   "outputs": [
    {
     "data": {
      "text/html": [
       "<div>\n",
       "<style scoped>\n",
       "    .dataframe tbody tr th:only-of-type {\n",
       "        vertical-align: middle;\n",
       "    }\n",
       "\n",
       "    .dataframe tbody tr th {\n",
       "        vertical-align: top;\n",
       "    }\n",
       "\n",
       "    .dataframe thead th {\n",
       "        text-align: right;\n",
       "    }\n",
       "</style>\n",
       "<table border=\"1\" class=\"dataframe\">\n",
       "  <thead>\n",
       "    <tr style=\"text-align: right;\">\n",
       "      <th></th>\n",
       "      <th>S.NO</th>\n",
       "      <th>Name</th>\n",
       "      <th>Nationality</th>\n",
       "      <th>Current Rank</th>\n",
       "      <th>Sport</th>\n",
       "      <th>Year</th>\n",
       "      <th>earnings_million</th>\n",
       "    </tr>\n",
       "  </thead>\n",
       "  <tbody>\n",
       "    <tr>\n",
       "      <th>0</th>\n",
       "      <td>1</td>\n",
       "      <td>Mike Tyson</td>\n",
       "      <td>USA</td>\n",
       "      <td>1</td>\n",
       "      <td>Boxing</td>\n",
       "      <td>1990</td>\n",
       "      <td>28.6</td>\n",
       "    </tr>\n",
       "    <tr>\n",
       "      <th>1</th>\n",
       "      <td>2</td>\n",
       "      <td>Buster Douglas</td>\n",
       "      <td>USA</td>\n",
       "      <td>2</td>\n",
       "      <td>Boxing</td>\n",
       "      <td>1990</td>\n",
       "      <td>26.0</td>\n",
       "    </tr>\n",
       "    <tr>\n",
       "      <th>2</th>\n",
       "      <td>3</td>\n",
       "      <td>Sugar Ray Leonard</td>\n",
       "      <td>USA</td>\n",
       "      <td>3</td>\n",
       "      <td>Boxing</td>\n",
       "      <td>1990</td>\n",
       "      <td>13.0</td>\n",
       "    </tr>\n",
       "    <tr>\n",
       "      <th>3</th>\n",
       "      <td>4</td>\n",
       "      <td>Ayrton Senna</td>\n",
       "      <td>Brazil</td>\n",
       "      <td>4</td>\n",
       "      <td>Auto Racing</td>\n",
       "      <td>1990</td>\n",
       "      <td>10.0</td>\n",
       "    </tr>\n",
       "    <tr>\n",
       "      <th>4</th>\n",
       "      <td>5</td>\n",
       "      <td>Alain Prost</td>\n",
       "      <td>France</td>\n",
       "      <td>5</td>\n",
       "      <td>Auto Racing</td>\n",
       "      <td>1990</td>\n",
       "      <td>9.0</td>\n",
       "    </tr>\n",
       "  </tbody>\n",
       "</table>\n",
       "</div>"
      ],
      "text/plain": [
       "   S.NO               Name Nationality  Current Rank        Sport  Year  \\\n",
       "0     1         Mike Tyson         USA             1       Boxing  1990   \n",
       "1     2     Buster Douglas         USA             2       Boxing  1990   \n",
       "2     3  Sugar Ray Leonard         USA             3       Boxing  1990   \n",
       "3     4       Ayrton Senna      Brazil             4  Auto Racing  1990   \n",
       "4     5        Alain Prost      France             5  Auto Racing  1990   \n",
       "\n",
       "   earnings_million  \n",
       "0              28.6  \n",
       "1              26.0  \n",
       "2              13.0  \n",
       "3              10.0  \n",
       "4               9.0  "
      ]
     },
     "execution_count": 33,
     "metadata": {},
     "output_type": "execute_result"
    }
   ],
   "source": [
    "money.head()"
   ]
  },
  {
   "cell_type": "code",
   "execution_count": 34,
   "id": "d92ac2d8",
   "metadata": {},
   "outputs": [
    {
     "data": {
      "text/plain": [
       "S.NO                0\n",
       "Name                0\n",
       "Nationality         0\n",
       "Current Rank        0\n",
       "Sport               0\n",
       "Year                0\n",
       "earnings_million    0\n",
       "dtype: int64"
      ]
     },
     "execution_count": 34,
     "metadata": {},
     "output_type": "execute_result"
    }
   ],
   "source": [
    "money.isna().sum()"
   ]
  },
  {
   "cell_type": "code",
   "execution_count": 39,
   "id": "496f46b3",
   "metadata": {},
   "outputs": [
    {
     "data": {
      "text/html": [
       "<div>\n",
       "<style scoped>\n",
       "    .dataframe tbody tr th:only-of-type {\n",
       "        vertical-align: middle;\n",
       "    }\n",
       "\n",
       "    .dataframe tbody tr th {\n",
       "        vertical-align: top;\n",
       "    }\n",
       "\n",
       "    .dataframe thead th {\n",
       "        text-align: right;\n",
       "    }\n",
       "</style>\n",
       "<table border=\"1\" class=\"dataframe\">\n",
       "  <thead>\n",
       "    <tr style=\"text-align: right;\">\n",
       "      <th></th>\n",
       "      <th>Sport</th>\n",
       "      <th>Endurance</th>\n",
       "      <th>Strength</th>\n",
       "      <th>Power</th>\n",
       "      <th>Speed</th>\n",
       "      <th>Agility</th>\n",
       "      <th>Flexibility</th>\n",
       "      <th>Nerve</th>\n",
       "      <th>Durability</th>\n",
       "      <th>Hand-Eye Coordination</th>\n",
       "      <th>Analytical Aptitude</th>\n",
       "      <th>Total</th>\n",
       "      <th>Rank</th>\n",
       "    </tr>\n",
       "  </thead>\n",
       "  <tbody>\n",
       "    <tr>\n",
       "      <th>0</th>\n",
       "      <td>Boxing</td>\n",
       "      <td>8.63</td>\n",
       "      <td>8.13</td>\n",
       "      <td>8.63</td>\n",
       "      <td>6.38</td>\n",
       "      <td>6.25</td>\n",
       "      <td>4.38</td>\n",
       "      <td>8.88</td>\n",
       "      <td>8.50</td>\n",
       "      <td>7.00</td>\n",
       "      <td>5.63</td>\n",
       "      <td>72.375</td>\n",
       "      <td>1</td>\n",
       "    </tr>\n",
       "    <tr>\n",
       "      <th>1</th>\n",
       "      <td>Ice Hockey</td>\n",
       "      <td>7.25</td>\n",
       "      <td>7.13</td>\n",
       "      <td>7.88</td>\n",
       "      <td>7.75</td>\n",
       "      <td>7.63</td>\n",
       "      <td>4.88</td>\n",
       "      <td>6.00</td>\n",
       "      <td>8.25</td>\n",
       "      <td>7.50</td>\n",
       "      <td>7.50</td>\n",
       "      <td>71.750</td>\n",
       "      <td>2</td>\n",
       "    </tr>\n",
       "    <tr>\n",
       "      <th>2</th>\n",
       "      <td>Football</td>\n",
       "      <td>5.38</td>\n",
       "      <td>8.63</td>\n",
       "      <td>8.13</td>\n",
       "      <td>7.13</td>\n",
       "      <td>6.38</td>\n",
       "      <td>4.38</td>\n",
       "      <td>7.25</td>\n",
       "      <td>8.50</td>\n",
       "      <td>5.50</td>\n",
       "      <td>7.13</td>\n",
       "      <td>68.375</td>\n",
       "      <td>3</td>\n",
       "    </tr>\n",
       "    <tr>\n",
       "      <th>3</th>\n",
       "      <td>Basketball</td>\n",
       "      <td>7.38</td>\n",
       "      <td>6.25</td>\n",
       "      <td>6.50</td>\n",
       "      <td>7.25</td>\n",
       "      <td>8.13</td>\n",
       "      <td>5.63</td>\n",
       "      <td>4.13</td>\n",
       "      <td>7.75</td>\n",
       "      <td>7.50</td>\n",
       "      <td>7.38</td>\n",
       "      <td>67.875</td>\n",
       "      <td>4</td>\n",
       "    </tr>\n",
       "    <tr>\n",
       "      <th>4</th>\n",
       "      <td>Wrestling</td>\n",
       "      <td>6.63</td>\n",
       "      <td>8.38</td>\n",
       "      <td>7.13</td>\n",
       "      <td>5.13</td>\n",
       "      <td>6.38</td>\n",
       "      <td>7.50</td>\n",
       "      <td>5.00</td>\n",
       "      <td>6.75</td>\n",
       "      <td>4.25</td>\n",
       "      <td>6.38</td>\n",
       "      <td>63.500</td>\n",
       "      <td>5</td>\n",
       "    </tr>\n",
       "  </tbody>\n",
       "</table>\n",
       "</div>"
      ],
      "text/plain": [
       "        Sport  Endurance  Strength  Power  Speed  Agility  Flexibility  Nerve  \\\n",
       "0      Boxing       8.63      8.13   8.63   6.38     6.25         4.38   8.88   \n",
       "1  Ice Hockey       7.25      7.13   7.88   7.75     7.63         4.88   6.00   \n",
       "2    Football       5.38      8.63   8.13   7.13     6.38         4.38   7.25   \n",
       "3  Basketball       7.38      6.25   6.50   7.25     8.13         5.63   4.13   \n",
       "4   Wrestling       6.63      8.38   7.13   5.13     6.38         7.50   5.00   \n",
       "\n",
       "   Durability  Hand-Eye Coordination  Analytical Aptitude   Total  Rank  \n",
       "0        8.50                   7.00                 5.63  72.375     1  \n",
       "1        8.25                   7.50                 7.50  71.750     2  \n",
       "2        8.50                   5.50                 7.13  68.375     3  \n",
       "3        7.75                   7.50                 7.38  67.875     4  \n",
       "4        6.75                   4.25                 6.38  63.500     5  "
      ]
     },
     "execution_count": 39,
     "metadata": {},
     "output_type": "execute_result"
    }
   ],
   "source": [
    "sports.head()"
   ]
  },
  {
   "cell_type": "markdown",
   "id": "30ca17cc",
   "metadata": {},
   "source": [
    "## The cleaning and exploration is done"
   ]
  },
  {
   "cell_type": "markdown",
   "id": "bacfb65d",
   "metadata": {},
   "source": [
    "Off to another notebook for visuals, but first we have to export our clean datasets"
   ]
  },
  {
   "cell_type": "code",
   "execution_count": 40,
   "id": "d9aed0f8",
   "metadata": {},
   "outputs": [],
   "source": [
    "sports.to_csv('abilities_sports_clean.csv')\n",
    "money.to_csv('money_sports_clean.csv')"
   ]
  }
 ],
 "metadata": {
  "kernelspec": {
   "display_name": "Python 3",
   "language": "python",
   "name": "python3"
  },
  "language_info": {
   "codemirror_mode": {
    "name": "ipython",
    "version": 3
   },
   "file_extension": ".py",
   "mimetype": "text/x-python",
   "name": "python",
   "nbconvert_exporter": "python",
   "pygments_lexer": "ipython3",
   "version": "3.8.8"
  }
 },
 "nbformat": 4,
 "nbformat_minor": 5
}
