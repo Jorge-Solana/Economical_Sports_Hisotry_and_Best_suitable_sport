{
 "cells": [
  {
   "cell_type": "code",
   "execution_count": 1,
   "id": "73dfe012",
   "metadata": {},
   "outputs": [],
   "source": [
    "import pandas as pd\n",
    "import numpy as np\n",
    "import seaborn as sns\n",
    "import matplotlib.pyplot as plt\n",
    "import plotly.express as px\n",
    "import plotly.graph_objects as go\n",
    "from plotly.subplots import make_subplots"
   ]
  },
  {
   "cell_type": "code",
   "execution_count": 2,
   "id": "3e6a96f7",
   "metadata": {},
   "outputs": [],
   "source": [
    "money = pd.read_csv('money_sports_clean.csv', index_col=0)\n",
    "sports = pd.read_csv('abilities_sports_clean.csv',index_col=0)"
   ]
  },
  {
   "cell_type": "code",
   "execution_count": 3,
   "id": "f89d2fd8",
   "metadata": {},
   "outputs": [
    {
     "data": {
      "text/html": [
       "<div>\n",
       "<style scoped>\n",
       "    .dataframe tbody tr th:only-of-type {\n",
       "        vertical-align: middle;\n",
       "    }\n",
       "\n",
       "    .dataframe tbody tr th {\n",
       "        vertical-align: top;\n",
       "    }\n",
       "\n",
       "    .dataframe thead th {\n",
       "        text-align: right;\n",
       "    }\n",
       "</style>\n",
       "<table border=\"1\" class=\"dataframe\">\n",
       "  <thead>\n",
       "    <tr style=\"text-align: right;\">\n",
       "      <th></th>\n",
       "      <th>S.NO</th>\n",
       "      <th>Name</th>\n",
       "      <th>Nationality</th>\n",
       "      <th>Current Rank</th>\n",
       "      <th>Sport</th>\n",
       "      <th>Year</th>\n",
       "      <th>earnings_million</th>\n",
       "    </tr>\n",
       "  </thead>\n",
       "  <tbody>\n",
       "    <tr>\n",
       "      <th>0</th>\n",
       "      <td>1</td>\n",
       "      <td>Mike Tyson</td>\n",
       "      <td>USA</td>\n",
       "      <td>1</td>\n",
       "      <td>Boxing</td>\n",
       "      <td>1990</td>\n",
       "      <td>28.6</td>\n",
       "    </tr>\n",
       "    <tr>\n",
       "      <th>1</th>\n",
       "      <td>2</td>\n",
       "      <td>Buster Douglas</td>\n",
       "      <td>USA</td>\n",
       "      <td>2</td>\n",
       "      <td>Boxing</td>\n",
       "      <td>1990</td>\n",
       "      <td>26.0</td>\n",
       "    </tr>\n",
       "    <tr>\n",
       "      <th>2</th>\n",
       "      <td>3</td>\n",
       "      <td>Sugar Ray Leonard</td>\n",
       "      <td>USA</td>\n",
       "      <td>3</td>\n",
       "      <td>Boxing</td>\n",
       "      <td>1990</td>\n",
       "      <td>13.0</td>\n",
       "    </tr>\n",
       "    <tr>\n",
       "      <th>3</th>\n",
       "      <td>4</td>\n",
       "      <td>Ayrton Senna</td>\n",
       "      <td>Brazil</td>\n",
       "      <td>4</td>\n",
       "      <td>Auto Racing</td>\n",
       "      <td>1990</td>\n",
       "      <td>10.0</td>\n",
       "    </tr>\n",
       "    <tr>\n",
       "      <th>4</th>\n",
       "      <td>5</td>\n",
       "      <td>Alain Prost</td>\n",
       "      <td>France</td>\n",
       "      <td>5</td>\n",
       "      <td>Auto Racing</td>\n",
       "      <td>1990</td>\n",
       "      <td>9.0</td>\n",
       "    </tr>\n",
       "  </tbody>\n",
       "</table>\n",
       "</div>"
      ],
      "text/plain": [
       "   S.NO               Name Nationality  Current Rank        Sport  Year  \\\n",
       "0     1         Mike Tyson         USA             1       Boxing  1990   \n",
       "1     2     Buster Douglas         USA             2       Boxing  1990   \n",
       "2     3  Sugar Ray Leonard         USA             3       Boxing  1990   \n",
       "3     4       Ayrton Senna      Brazil             4  Auto Racing  1990   \n",
       "4     5        Alain Prost      France             5  Auto Racing  1990   \n",
       "\n",
       "   earnings_million  \n",
       "0              28.6  \n",
       "1              26.0  \n",
       "2              13.0  \n",
       "3              10.0  \n",
       "4               9.0  "
      ]
     },
     "execution_count": 3,
     "metadata": {},
     "output_type": "execute_result"
    }
   ],
   "source": [
    "money.head()"
   ]
  },
  {
   "cell_type": "code",
   "execution_count": 4,
   "id": "6423ac1d",
   "metadata": {},
   "outputs": [
    {
     "data": {
      "text/html": [
       "<div>\n",
       "<style scoped>\n",
       "    .dataframe tbody tr th:only-of-type {\n",
       "        vertical-align: middle;\n",
       "    }\n",
       "\n",
       "    .dataframe tbody tr th {\n",
       "        vertical-align: top;\n",
       "    }\n",
       "\n",
       "    .dataframe thead th {\n",
       "        text-align: right;\n",
       "    }\n",
       "</style>\n",
       "<table border=\"1\" class=\"dataframe\">\n",
       "  <thead>\n",
       "    <tr style=\"text-align: right;\">\n",
       "      <th></th>\n",
       "      <th>Sport</th>\n",
       "      <th>Endurance</th>\n",
       "      <th>Strength</th>\n",
       "      <th>Power</th>\n",
       "      <th>Speed</th>\n",
       "      <th>Agility</th>\n",
       "      <th>Flexibility</th>\n",
       "      <th>Nerve</th>\n",
       "      <th>Durability</th>\n",
       "      <th>Hand-Eye Coordination</th>\n",
       "      <th>Analytical Aptitude</th>\n",
       "      <th>Total</th>\n",
       "      <th>Rank</th>\n",
       "    </tr>\n",
       "  </thead>\n",
       "  <tbody>\n",
       "    <tr>\n",
       "      <th>0</th>\n",
       "      <td>Boxing</td>\n",
       "      <td>8.63</td>\n",
       "      <td>8.13</td>\n",
       "      <td>8.63</td>\n",
       "      <td>6.38</td>\n",
       "      <td>6.25</td>\n",
       "      <td>4.38</td>\n",
       "      <td>8.88</td>\n",
       "      <td>8.50</td>\n",
       "      <td>7.00</td>\n",
       "      <td>5.63</td>\n",
       "      <td>72.375</td>\n",
       "      <td>1</td>\n",
       "    </tr>\n",
       "    <tr>\n",
       "      <th>1</th>\n",
       "      <td>Ice Hockey</td>\n",
       "      <td>7.25</td>\n",
       "      <td>7.13</td>\n",
       "      <td>7.88</td>\n",
       "      <td>7.75</td>\n",
       "      <td>7.63</td>\n",
       "      <td>4.88</td>\n",
       "      <td>6.00</td>\n",
       "      <td>8.25</td>\n",
       "      <td>7.50</td>\n",
       "      <td>7.50</td>\n",
       "      <td>71.750</td>\n",
       "      <td>2</td>\n",
       "    </tr>\n",
       "    <tr>\n",
       "      <th>2</th>\n",
       "      <td>Football</td>\n",
       "      <td>5.38</td>\n",
       "      <td>8.63</td>\n",
       "      <td>8.13</td>\n",
       "      <td>7.13</td>\n",
       "      <td>6.38</td>\n",
       "      <td>4.38</td>\n",
       "      <td>7.25</td>\n",
       "      <td>8.50</td>\n",
       "      <td>5.50</td>\n",
       "      <td>7.13</td>\n",
       "      <td>68.375</td>\n",
       "      <td>3</td>\n",
       "    </tr>\n",
       "    <tr>\n",
       "      <th>3</th>\n",
       "      <td>Basketball</td>\n",
       "      <td>7.38</td>\n",
       "      <td>6.25</td>\n",
       "      <td>6.50</td>\n",
       "      <td>7.25</td>\n",
       "      <td>8.13</td>\n",
       "      <td>5.63</td>\n",
       "      <td>4.13</td>\n",
       "      <td>7.75</td>\n",
       "      <td>7.50</td>\n",
       "      <td>7.38</td>\n",
       "      <td>67.875</td>\n",
       "      <td>4</td>\n",
       "    </tr>\n",
       "    <tr>\n",
       "      <th>4</th>\n",
       "      <td>Wrestling</td>\n",
       "      <td>6.63</td>\n",
       "      <td>8.38</td>\n",
       "      <td>7.13</td>\n",
       "      <td>5.13</td>\n",
       "      <td>6.38</td>\n",
       "      <td>7.50</td>\n",
       "      <td>5.00</td>\n",
       "      <td>6.75</td>\n",
       "      <td>4.25</td>\n",
       "      <td>6.38</td>\n",
       "      <td>63.500</td>\n",
       "      <td>5</td>\n",
       "    </tr>\n",
       "  </tbody>\n",
       "</table>\n",
       "</div>"
      ],
      "text/plain": [
       "        Sport  Endurance  Strength  Power  Speed  Agility  Flexibility  Nerve  \\\n",
       "0      Boxing       8.63      8.13   8.63   6.38     6.25         4.38   8.88   \n",
       "1  Ice Hockey       7.25      7.13   7.88   7.75     7.63         4.88   6.00   \n",
       "2    Football       5.38      8.63   8.13   7.13     6.38         4.38   7.25   \n",
       "3  Basketball       7.38      6.25   6.50   7.25     8.13         5.63   4.13   \n",
       "4   Wrestling       6.63      8.38   7.13   5.13     6.38         7.50   5.00   \n",
       "\n",
       "   Durability  Hand-Eye Coordination  Analytical Aptitude   Total  Rank  \n",
       "0        8.50                   7.00                 5.63  72.375     1  \n",
       "1        8.25                   7.50                 7.50  71.750     2  \n",
       "2        8.50                   5.50                 7.13  68.375     3  \n",
       "3        7.75                   7.50                 7.38  67.875     4  \n",
       "4        6.75                   4.25                 6.38  63.500     5  "
      ]
     },
     "execution_count": 4,
     "metadata": {},
     "output_type": "execute_result"
    }
   ],
   "source": [
    "sports.head()"
   ]
  },
  {
   "cell_type": "markdown",
   "id": "5ba379c2",
   "metadata": {},
   "source": [
    "First let's take an overall view of the total (the sum of all aptitudes) for all sports"
   ]
  },
  {
   "cell_type": "code",
   "execution_count": 5,
   "id": "33a3c6c2",
   "metadata": {},
   "outputs": [
    {
     "data": {
      "image/png": "[encoded data removed]",
      "text/plain": [
       "<Figure size 432x288 with 1 Axes>"
      ]
     },
     "metadata": {
      "needs_background": "light"
     },
     "output_type": "display_data"
    }
   ],
   "source": [
    "sns.histplot(data=sports, x=sports.Total);"
   ]
  },
  {
   "cell_type": "code",
   "execution_count": 6,
   "id": "a5fe498b",
   "metadata": {},
   "outputs": [
    {
     "data": {
      "image/png": "[encoded data removed]",
      "text/plain": [
       "<Figure size 1152x684 with 1 Axes>"
      ]
     },
     "metadata": {
      "needs_background": "light"
     },
     "output_type": "display_data"
    }
   ],
   "source": [
    "fig, ax = plt.subplots()\n",
    "fig.set_size_inches(16, 9.5)\n",
    "sns.barplot(data=sports, x=sports.Sport, y=sports.Total, palette='Blues_r')\n",
    "plt.xticks(rotation=90)\n",
    "plt.show()"
   ]
  },
  {
   "cell_type": "code",
   "execution_count": 7,
   "id": "d70b9cea",
   "metadata": {},
   "outputs": [],
   "source": [
    "# do we really care about all this sports? \n",
    "# yes due to the model we are going to develop later on, but for the classification not really, why?\n",
    "# becasue we will match the sports in the two dataframes, so we might as well make a copy of this dataframe with only the \n",
    "# sports relevant, the ones that appear on the other dataframe as well."
   ]
  },
  {
   "cell_type": "code",
   "execution_count": 8,
   "id": "c27c7acd",
   "metadata": {},
   "outputs": [],
   "source": [
    "# so which are the sports present on the ohter dataframe?"
   ]
  },
  {
   "cell_type": "code",
   "execution_count": 9,
   "id": "01676bd6",
   "metadata": {},
   "outputs": [
    {
     "data": {
      "text/plain": [
       "array(['Boxing', 'Auto Racing', 'Golf', 'Basketball', 'Tennis',\n",
       "       'American Football', 'Baseball', 'Hockey', 'Nascar', 'Soccer',\n",
       "       'Cycling', 'Moto GP', 'MMA'], dtype=object)"
      ]
     },
     "execution_count": 9,
     "metadata": {},
     "output_type": "execute_result"
    }
   ],
   "source": [
    "money.Sport.unique()"
   ]
  },
  {
   "cell_type": "code",
   "execution_count": 10,
   "id": "c669a5f6",
   "metadata": {},
   "outputs": [
    {
     "data": {
      "text/plain": [
       "array(['Boxing', 'Ice Hockey', 'Football', 'Basketball', 'Wrestling',\n",
       "       'Martial Arts', 'Tennis', 'Gymnastics', 'Baseball/Softball',\n",
       "       'Soccer', 'Skiing: Alpine', 'Water Polo', 'Rugby', 'Lacrosse',\n",
       "       'Rodeo: Steer Wrestling', 'Track and Field: Pole Vault',\n",
       "       'Field Hockey', 'Speed Skating', 'Figure Skating',\n",
       "       'Cycling: Distance', 'Volleyball', 'Racquetball/Squash', 'Surfing',\n",
       "       'Fencing', 'Skiing: Freestyle', 'Team Handball',\n",
       "       'Cycling: Sprints', 'Bobsledding/Luge', 'Ski Jumping', 'Badminton',\n",
       "       'Skiing: Nordic', 'Auto Racing', 'Track and Field: High Jump',\n",
       "       'Track and Field: Long, Triple jumps', 'Diving',\n",
       "       'Swimming (all strokes): Distance', 'Skateboarding',\n",
       "       'Track and Field: Sprints', 'Rowing', 'Rodeo: Calf Roping',\n",
       "       'Track and Field: Distance', 'Rodeo: Bull/Bareback/Bronc Riding',\n",
       "       'Track and Field: Middle Distance', 'Weight-Lifting',\n",
       "       'Swimming (all strokes): Sprints', 'Water Skiing', 'Table Tennis',\n",
       "       'Track and Field: Weights', 'Canoe/Kayak', 'Horse Racing', 'Golf',\n",
       "       'Cheerleading', 'Roller Skating', 'Equestrian', 'Archery',\n",
       "       'Curling', 'Bowling', 'Shooting', 'Billiards', 'Fishing'],\n",
       "      dtype=object)"
      ]
     },
     "execution_count": 10,
     "metadata": {},
     "output_type": "execute_result"
    }
   ],
   "source": [
    "sports.Sport.unique()"
   ]
  },
  {
   "cell_type": "markdown",
   "id": "a0ff201a",
   "metadata": {},
   "source": [
    "We can do serveral groupbys within the money dataframe to see a lot of individual things such as:\n",
    "- How a certain sport has evolved in the last 30 years\n",
    "- How much money has a singular sport made each year\n",
    "- Which has been the most prevalent sports in the last 30 years in general and on each year\n",
    "- The money made by each sport in the last 30 years\n"
   ]
  },
  {
   "cell_type": "code",
   "execution_count": 23,
   "id": "e5a6e890",
   "metadata": {},
   "outputs": [
    {
     "data": {
      "text/html": [
       "<div>\n",
       "<style scoped>\n",
       "    .dataframe tbody tr th:only-of-type {\n",
       "        vertical-align: middle;\n",
       "    }\n",
       "\n",
       "    .dataframe tbody tr th {\n",
       "        vertical-align: top;\n",
       "    }\n",
       "\n",
       "    .dataframe thead th {\n",
       "        text-align: right;\n",
       "    }\n",
       "</style>\n",
       "<table border=\"1\" class=\"dataframe\">\n",
       "  <thead>\n",
       "    <tr style=\"text-align: right;\">\n",
       "      <th></th>\n",
       "      <th>S.NO</th>\n",
       "      <th>Name</th>\n",
       "      <th>Nationality</th>\n",
       "      <th>Current Rank</th>\n",
       "      <th>Sport</th>\n",
       "      <th>Year</th>\n",
       "      <th>earnings_million</th>\n",
       "    </tr>\n",
       "  </thead>\n",
       "  <tbody>\n",
       "    <tr>\n",
       "      <th>0</th>\n",
       "      <td>1</td>\n",
       "      <td>Mike Tyson</td>\n",
       "      <td>USA</td>\n",
       "      <td>1</td>\n",
       "      <td>Boxing</td>\n",
       "      <td>1990</td>\n",
       "      <td>28.6</td>\n",
       "    </tr>\n",
       "    <tr>\n",
       "      <th>1</th>\n",
       "      <td>2</td>\n",
       "      <td>Buster Douglas</td>\n",
       "      <td>USA</td>\n",
       "      <td>2</td>\n",
       "      <td>Boxing</td>\n",
       "      <td>1990</td>\n",
       "      <td>26.0</td>\n",
       "    </tr>\n",
       "    <tr>\n",
       "      <th>2</th>\n",
       "      <td>3</td>\n",
       "      <td>Sugar Ray Leonard</td>\n",
       "      <td>USA</td>\n",
       "      <td>3</td>\n",
       "      <td>Boxing</td>\n",
       "      <td>1990</td>\n",
       "      <td>13.0</td>\n",
       "    </tr>\n",
       "    <tr>\n",
       "      <th>3</th>\n",
       "      <td>4</td>\n",
       "      <td>Ayrton Senna</td>\n",
       "      <td>Brazil</td>\n",
       "      <td>4</td>\n",
       "      <td>Auto Racing</td>\n",
       "      <td>1990</td>\n",
       "      <td>10.0</td>\n",
       "    </tr>\n",
       "    <tr>\n",
       "      <th>4</th>\n",
       "      <td>5</td>\n",
       "      <td>Alain Prost</td>\n",
       "      <td>France</td>\n",
       "      <td>5</td>\n",
       "      <td>Auto Racing</td>\n",
       "      <td>1990</td>\n",
       "      <td>9.0</td>\n",
       "    </tr>\n",
       "  </tbody>\n",
       "</table>\n",
       "</div>"
      ],
      "text/plain": [
       "   S.NO               Name Nationality  Current Rank        Sport  Year  \\\n",
       "0     1         Mike Tyson         USA             1       Boxing  1990   \n",
       "1     2     Buster Douglas         USA             2       Boxing  1990   \n",
       "2     3  Sugar Ray Leonard         USA             3       Boxing  1990   \n",
       "3     4       Ayrton Senna      Brazil             4  Auto Racing  1990   \n",
       "4     5        Alain Prost      France             5  Auto Racing  1990   \n",
       "\n",
       "   earnings_million  \n",
       "0              28.6  \n",
       "1              26.0  \n",
       "2              13.0  \n",
       "3              10.0  \n",
       "4               9.0  "
      ]
     },
     "execution_count": 23,
     "metadata": {},
     "output_type": "execute_result"
    }
   ],
   "source": [
    "money.head()"
   ]
  },
  {
   "cell_type": "code",
   "execution_count": 27,
   "id": "877a2c05",
   "metadata": {},
   "outputs": [],
   "source": [
    "agrupado = money.groupby(['Sport'],as_index=False).agg({'earnings_million' : 'mean'})"
   ]
  },
  {
   "cell_type": "code",
   "execution_count": 28,
   "id": "c67a377e",
   "metadata": {},
   "outputs": [
    {
     "data": {
      "text/html": [
       "<div>\n",
       "<style scoped>\n",
       "    .dataframe tbody tr th:only-of-type {\n",
       "        vertical-align: middle;\n",
       "    }\n",
       "\n",
       "    .dataframe tbody tr th {\n",
       "        vertical-align: top;\n",
       "    }\n",
       "\n",
       "    .dataframe thead th {\n",
       "        text-align: right;\n",
       "    }\n",
       "</style>\n",
       "<table border=\"1\" class=\"dataframe\">\n",
       "  <thead>\n",
       "    <tr style=\"text-align: right;\">\n",
       "      <th></th>\n",
       "      <th>Sport</th>\n",
       "      <th>earnings_million</th>\n",
       "    </tr>\n",
       "  </thead>\n",
       "  <tbody>\n",
       "    <tr>\n",
       "      <th>0</th>\n",
       "      <td>American Football</td>\n",
       "      <td>46.935000</td>\n",
       "    </tr>\n",
       "    <tr>\n",
       "      <th>1</th>\n",
       "      <td>Auto Racing</td>\n",
       "      <td>33.267742</td>\n",
       "    </tr>\n",
       "    <tr>\n",
       "      <th>2</th>\n",
       "      <td>Baseball</td>\n",
       "      <td>24.085714</td>\n",
       "    </tr>\n",
       "    <tr>\n",
       "      <th>3</th>\n",
       "      <td>Basketball</td>\n",
       "      <td>41.869512</td>\n",
       "    </tr>\n",
       "    <tr>\n",
       "      <th>4</th>\n",
       "      <td>Boxing</td>\n",
       "      <td>49.973913</td>\n",
       "    </tr>\n",
       "  </tbody>\n",
       "</table>\n",
       "</div>"
      ],
      "text/plain": [
       "               Sport  earnings_million\n",
       "0  American Football         46.935000\n",
       "1        Auto Racing         33.267742\n",
       "2           Baseball         24.085714\n",
       "3         Basketball         41.869512\n",
       "4             Boxing         49.973913"
      ]
     },
     "execution_count": 28,
     "metadata": {},
     "output_type": "execute_result"
    }
   ],
   "source": [
    "agrupado.head()"
   ]
  },
  {
   "cell_type": "code",
   "execution_count": 30,
   "id": "5f87264a",
   "metadata": {},
   "outputs": [
    {
     "data": {
      "text/plain": [
       "(13, 2)"
      ]
     },
     "execution_count": 30,
     "metadata": {},
     "output_type": "execute_result"
    }
   ],
   "source": [
    "agrupado.shape"
   ]
  },
  {
   "cell_type": "code",
   "execution_count": 36,
   "id": "f9d0b49d",
   "metadata": {},
   "outputs": [
    {
     "data": {
      "image/png": "[encoded data removed]",
      "text/plain": [
       "<Figure size 432x288 with 1 Axes>"
      ]
     },
     "metadata": {
      "needs_background": "light"
     },
     "output_type": "display_data"
    }
   ],
   "source": [
    "sns.barplot(data=agrupado, x=agrupado.Sport, y=agrupado.earnings_million, palette='Blues')\n",
    "plt.xticks(rotation=90)\n",
    "plt.show()"
   ]
  },
  {
   "cell_type": "code",
   "execution_count": 40,
   "id": "4a006a07",
   "metadata": {},
   "outputs": [],
   "source": [
    "# why is MMA ths sport with more aernings (in million USD) in the last 30 years?\n",
    "# ToDo - Anwer this"
   ]
  },
  {
   "cell_type": "code",
   "execution_count": 38,
   "id": "169bc438",
   "metadata": {},
   "outputs": [],
   "source": [
    "# I want to visualize the change of each sport within our 30 years change based on the earnings"
   ]
  },
  {
   "cell_type": "code",
   "execution_count": 39,
   "id": "a9ef8ac4",
   "metadata": {},
   "outputs": [],
   "source": [
    "# we can take the groupby we made before (sports with mean earnings) and later on we can add the years"
   ]
  },
  {
   "cell_type": "code",
   "execution_count": 42,
   "id": "7b770edd",
   "metadata": {},
   "outputs": [],
   "source": [
    "# can I do a grpupby with two columns?, I mean, I want the year (unique) in one column, but then I want each sport tobe a \n",
    "# single column and the values in this columns, conecting with the years, are the avg. earnings per sport per year"
   ]
  },
  {
   "cell_type": "code",
   "execution_count": null,
   "id": "e06cf2b5",
   "metadata": {},
   "outputs": [],
   "source": []
  }
 ],
 "metadata": {
  "kernelspec": {
   "display_name": "Python 3",
   "language": "python",
   "name": "python3"
  },
  "language_info": {
   "codemirror_mode": {
    "name": "ipython",
    "version": 3
   },
   "file_extension": ".py",
   "mimetype": "text/x-python",
   "name": "python",
   "nbconvert_exporter": "python",
   "pygments_lexer": "ipython3",
   "version": "3.8.8"
  }
 },
 "nbformat": 4,
 "nbformat_minor": 5
}
